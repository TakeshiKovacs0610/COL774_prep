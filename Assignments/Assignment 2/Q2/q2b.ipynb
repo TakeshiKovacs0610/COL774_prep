{
 "cells": [
  {
   "cell_type": "code",
   "execution_count": 4,
   "metadata": {},
   "outputs": [],
   "source": [
    "import cvxopt\n",
    "import numpy as np\n",
    "import os\n",
    "from PIL import Image\n",
    "from sklearn.svm import SVC as svm\n",
    "import pickle\n",
    "import time\n",
    "import shutil\n",
    "C = 1 ; gamma = 0.001"
   ]
  },
  {
   "cell_type": "code",
   "execution_count": 5,
   "metadata": {},
   "outputs": [],
   "source": [
    "def resize(img) :\n",
    "    img = np.array(img.resize((16,16)))\n",
    "    return img.reshape(img.shape[0]*img.shape[1]*img.shape[2])/255\n",
    "\n",
    "def loadClass(path):\n",
    "    images = []\n",
    "    for i in os.listdir(path):\n",
    "        images.append(resize(Image.open(os.path.join(path,i))))\n",
    "    return np.array(images)\n",
    "\n",
    "def loadSVMData(c1,c2):\n",
    "    class0 = loadClass(c1)\n",
    "    label0 = (-1)*np.ones((class0.shape[0],1))\n",
    "    class1 = loadClass(c2)\n",
    "    label1 = np.ones((class1.shape[0],1))\n",
    "    return np.concatenate([class0,class1]) ,np.concatenate([label0,label1])"
   ]
  },
  {
   "cell_type": "code",
   "execution_count": 6,
   "metadata": {},
   "outputs": [],
   "source": [
    "def getSupport(arr,tol = 1e-3, C = 1):\n",
    "    supportAlpha = []; indices = []\n",
    "    for i in range(len(arr)):\n",
    "        if arr[i] > tol :\n",
    "            supportAlpha.append(arr[i])\n",
    "            indices.append(i)\n",
    "    return supportAlpha,indices\n",
    "\n",
    "def linearKernel(X1,X2):\n",
    "    return np.matmul(X1,X2.T)\n",
    "\n",
    "def gaussKernel(X1: np.ndarray, X2: np.ndarray, gamma: float = 0.001):\n",
    "    prod = np.reshape(np.einsum('ij,ij->i', X1, X1), (X1.shape[0], 1)) + \\\n",
    "           np.reshape(np.einsum('ij,ij->i', X2, X2), (X2.shape[0], 1)).T \\\n",
    "             - 2 * np.matmul(X1, X2.T)\n",
    "    return np.exp(-gamma * prod)\n",
    "\n",
    "def SVM(X, Y, kernel = 'gaussian' , gamma = 0.1, C = 1, tol = 1e-4,showProg = False):\n",
    "    if kernel == 'linear':\n",
    "        kernelMatrix = linearKernel(X,X)\n",
    "    elif kernel == 'gaussian': \n",
    "        kernelMatrix = gaussKernel(X,X,gamma = gamma)\n",
    "    print(\"kernel computed\")\n",
    "\n",
    "    P = cvxopt.matrix((kernelMatrix * np.matmul(Y,Y.T)))\n",
    "    q = cvxopt.matrix(-np.ones(X.shape[0]))\n",
    "    c = 0\n",
    "    G = cvxopt.matrix(np.concatenate([np.eye(X.shape[0]),(-1)*np.eye(X.shape[0])]))\n",
    "    h = cvxopt.matrix(np.concatenate([C*np.ones((X.shape[0],1)),np.zeros((X.shape[0],1))]))\n",
    "    A = cvxopt.matrix(Y.T ,tc = 'd')\n",
    "    b = cvxopt.matrix(0.0)\n",
    "\n",
    "    sol = cvxopt.solvers.qp(P, q, G, h, A, b, options={'show_progress': showProg})\n",
    "    alphaRaw = np.array(sol['x'])\n",
    "    supportAlpha, supportIndices = getSupport(alphaRaw,tol, C)\n",
    "    supportAlpha = np.array(supportAlpha)\n",
    "    ySupport = Y[supportIndices]; xSupport = X[supportIndices]\n",
    "\n",
    "    w = np.sum(supportAlpha * ySupport * xSupport , axis = 0)\n",
    "\n",
    "    wXt = np.sum(alphaRaw * Y * kernelMatrix,axis = 0)\n",
    "\n",
    "    M = max(supportIndices, key=lambda i: -float(\"inf\") if Y[i] == 1  or C - alphaRaw[i] <= tol else wXt[i])\n",
    "    m = min(supportIndices, key=lambda i: float(\"inf\") if Y[i] == -1  or C - alphaRaw[i] <= tol else wXt[i])\n",
    "    intercept = -(wXt[M] + wXt[m]) / 2\n",
    "    return w,intercept,alphaRaw, supportIndices\n",
    "\n"
   ]
  },
  {
   "cell_type": "code",
   "execution_count": 3,
   "metadata": {},
   "outputs": [],
   "source": [
    "savePath = 'SVM_modelsQ2'\n",
    "if not os.path.exists(savePath):\n",
    "        os.mkdir(savePath)"
   ]
  },
  {
   "cell_type": "code",
   "execution_count": 13,
   "metadata": {},
   "outputs": [
    {
     "name": "stdout",
     "output_type": "stream",
     "text": [
      "Training for class-0 and class-1\n",
      "kernel computed\n",
      "Time taken for 0 and 1 =  60.494\n",
      "Training for class-0 and class-2\n",
      "kernel computed\n",
      "Time taken for 0 and 2 =  44.819\n",
      "Training for class-0 and class-3\n",
      "kernel computed\n",
      "Time taken for 0 and 3 =  47.495\n",
      "Training for class-0 and class-4\n",
      "kernel computed\n",
      "Time taken for 0 and 4 =  39.933\n",
      "Training for class-0 and class-5\n",
      "kernel computed\n",
      "Time taken for 0 and 5 =  46.462\n",
      "Training for class-1 and class-2\n",
      "kernel computed\n",
      "Time taken for 1 and 2 =  63.255\n",
      "Training for class-1 and class-3\n",
      "kernel computed\n",
      "Time taken for 1 and 3 =  71.445\n",
      "Training for class-1 and class-4\n",
      "kernel computed\n",
      "Time taken for 1 and 4 =  60.602\n",
      "Training for class-1 and class-5\n",
      "kernel computed\n",
      "Time taken for 1 and 5 =  46.700\n",
      "Training for class-2 and class-3\n",
      "kernel computed\n",
      "Time taken for 2 and 3 =  50.349\n",
      "Training for class-2 and class-4\n",
      "kernel computed\n",
      "Time taken for 2 and 4 =  42.861\n",
      "Training for class-2 and class-5\n",
      "kernel computed\n",
      "Time taken for 2 and 5 =  58.163\n",
      "Training for class-3 and class-4\n",
      "kernel computed\n",
      "Time taken for 3 and 4 =  44.791\n",
      "Training for class-3 and class-5\n",
      "kernel computed\n",
      "Time taken for 3 and 5 =  55.039\n",
      "Training for class-4 and class-5\n",
      "kernel computed\n",
      "Time taken for 4 and 5 =  45.405\n"
     ]
    }
   ],
   "source": [
    "# TRAINING ALL SVM MODELS\n",
    "# to store : alphaRawGaussian, bGaussian and supportGaussian. Load trainX and trainY at time of prediction\n",
    "CLASSES = 6\n",
    "savePath = 'SVM_modelsQ2'\n",
    "modelsDict = {}\n",
    "netTime = 0\n",
    "for i in range(CLASSES):\n",
    "    for j in range(i+1,CLASSES):\n",
    "        print(f'Training for class-{i} and class-{j}')\n",
    "        trainX, trainY = loadSVMData('data/svm/train/'+str(i),'data/svm/train/'+str(j)) \n",
    "        tLocal = time.time()\n",
    "        _ , bGaussian ,alphaRawGaussian ,supportGaussian = SVM(trainX,trainY, kernel = 'gaussian',gamma = 0.001,showProg = False, tol=1e-3, C = 1.0)\n",
    "        netTime += time.time() - tLocal\n",
    "        print(f'Time taken for {i} and {j} = {time.time() - tLocal : .3f}')\n",
    "\n",
    "        #CHECKPOINTS\n",
    "        with open(os.path.join(savePath,f'model{i}{j}.pickle'),'wb') as f:\n",
    "            pickle.dump({'intercept' : bGaussian, 'alphaRaw' : alphaRawGaussian, 'supportIndices' : supportGaussian}, f)\n",
    "\n",
    "        modelsDict[(i,j)] = {'intercept' : bGaussian, 'alphaRaw' : alphaRawGaussian, 'supportIndices' : supportGaussian}"
   ]
  },
  {
   "cell_type": "code",
   "execution_count": 15,
   "metadata": {},
   "outputs": [],
   "source": [
    "with open(os.path.join(savePath,'allaCombined.pickle'),'wb') as f:\n",
    "    pickle.dump(modelsDict,f)"
   ]
  },
  {
   "cell_type": "code",
   "execution_count": 8,
   "metadata": {},
   "outputs": [],
   "source": [
    "with open('SVM_modelsQ2/allaCombined.pickle','rb') as f:\n",
    "    modelsDict = pickle.load(f)"
   ]
  },
  {
   "cell_type": "code",
   "execution_count": 10,
   "metadata": {},
   "outputs": [],
   "source": [
    "CLASSES = 6\n",
    "for i in range(CLASSES):\n",
    "    for j in range(i+1,CLASSES):\n",
    "        trainX, trainY = loadSVMData('../../data/svm/train/'+str(i),'../../data/svm/train/'+str(j))\n",
    "        modelsDict[(i,j)]['trainX'] = trainX\n",
    "        modelsDict[(i,j)]['trainY'] = trainY"
   ]
  },
  {
   "cell_type": "code",
   "execution_count": 50,
   "metadata": {},
   "outputs": [],
   "source": [
    "def testAccij(modelsDict, i,j) :\n",
    "    testX, testY = loadSVMData('data/svm/val/'+str(i),'data/svm/val/'+str(j))\n",
    "    pred = np.sum(modelsDict[(i,j)]['alphaRaw'][modelsDict[(i,j)]['supportIndices']] * modelsDict[(i,j)]['trainY'][modelsDict[(i,j)]['supportIndices']] * gaussKernel(modelsDict[(i,j)]['trainX'][modelsDict[(i,j)]['supportIndices']], testX, 0.001), 0) + modelsDict[(i,j)]['intercept']\n",
    "    pred = np.where(pred>=0, 1, -1)\n",
    "    accGauss = np.where((testY.flatten() == pred) == True)[0].shape[0]/testY.shape[0]\n",
    "    print(f'Validation set accuracy = {accGauss*100 : .3f}%')"
   ]
  },
  {
   "cell_type": "code",
   "execution_count": 39,
   "metadata": {},
   "outputs": [],
   "source": [
    "def getVotes(X,modelsDict):\n",
    "    votes = {i:0 for i in range(CLASSES)}\n",
    "    max_score = {i:0 for i in range(CLASSES)}\n",
    "    X = X.reshape((1,X.shape[0]))\n",
    "    for i in range(CLASSES):\n",
    "        for j in range(i+1,CLASSES):\n",
    "            pred = np.sum(modelsDict[(i,j)]['alphaRaw'][modelsDict[(i,j)]['supportIndices']] * modelsDict[(i,j)]['trainY'][modelsDict[(i,j)]['supportIndices']] \\\n",
    "                       * gaussKernel(modelsDict[(i,j)]['trainX'][modelsDict[(i,j)]['supportIndices']], X, 0.001), 0) + modelsDict[(i,j)]['intercept']\n",
    "            predNum = np.where(pred <= 0 , i, j)[0]\n",
    "            max_score[predNum] = max(max_score[predNum],pred[0])\n",
    "            votes[predNum]+=1\n",
    "    votes = {j:i for i,j in votes.items()}\n",
    "    votes =  sorted(list(votes.items()))\n",
    "    result = -1\n",
    "    if votes[-1][0] == votes[-2][0]:\n",
    "        if max_score[votes[-1][-1]] > max_score[votes[-2][-1]]:\n",
    "            result = votes[-1][-1]\n",
    "        else:\n",
    "            result = votes[-2][1]\n",
    "    else:\n",
    "        result = votes[-1][1]\n",
    "    return result"
   ]
  },
  {
   "cell_type": "code",
   "execution_count": 40,
   "metadata": {},
   "outputs": [
    {
     "data": {
      "text/plain": [
       "0"
      ]
     },
     "execution_count": 40,
     "metadata": {},
     "output_type": "execute_result"
    }
   ],
   "source": [
    "getVotes(testX[2],modelsDict)"
   ]
  },
  {
   "cell_type": "code",
   "execution_count": 15,
   "metadata": {},
   "outputs": [],
   "source": [
    "def loadAllClasses(tv = 'val'):\n",
    "\n",
    "    class0 = loadClass('../../data/svm/'+tv+'/0')\n",
    "    label0 = 0*np.ones((class0.shape[0],1))\n",
    "    for i in range(1,6):\n",
    "        class1 = loadClass('../../data/svm/'+ tv+ '/' + str(i))\n",
    "        label1 = i*np.ones((class1.shape[0],1))\n",
    "        class0, label0 = np.concatenate([class0,class1]) ,np.concatenate([label0,label1])\n",
    "    return class0, label0"
   ]
  },
  {
   "cell_type": "code",
   "execution_count": 16,
   "metadata": {},
   "outputs": [],
   "source": [
    "testX, testY = loadAllClasses()"
   ]
  },
  {
   "cell_type": "code",
   "execution_count": 54,
   "metadata": {},
   "outputs": [],
   "source": [
    "\n",
    "trainX, trainY = loadAllClasses('train')"
   ]
  },
  {
   "cell_type": "code",
   "execution_count": 41,
   "metadata": {},
   "outputs": [],
   "source": [
    "matches = 0\n",
    "predsCustomSVM = []\n",
    "for i in range(testX.shape[0]):\n",
    "    predsCustomSVM.append(getVotes(testX[i],modelsDict))\n",
    "    if predsCustomSVM[-1] == testY[i][-1] : matches += 1"
   ]
  },
  {
   "cell_type": "code",
   "execution_count": 42,
   "metadata": {},
   "outputs": [
    {
     "data": {
      "text/plain": [
       "0.5591666666666667"
      ]
     },
     "execution_count": 42,
     "metadata": {},
     "output_type": "execute_result"
    }
   ],
   "source": [
    "matches/testX.shape[0]"
   ]
  },
  {
   "cell_type": "code",
   "execution_count": 56,
   "metadata": {},
   "outputs": [
    {
     "data": {
      "text/plain": [
       "86.37898397445679"
      ]
     },
     "execution_count": 56,
     "metadata": {},
     "output_type": "execute_result"
    }
   ],
   "source": [
    "from sklearn.svm import SVC\n",
    "gaussSVM = SVC( kernel='rbf', gamma = 0.001, C = 1)\n",
    "t = time.time()\n",
    "gaussSVM.fit(trainX, trainY.flatten())\n",
    "time.time() - t"
   ]
  },
  {
   "cell_type": "code",
   "execution_count": 58,
   "metadata": {},
   "outputs": [
    {
     "data": {
      "text/plain": [
       "0.5608333333333333"
      ]
     },
     "execution_count": 58,
     "metadata": {},
     "output_type": "execute_result"
    }
   ],
   "source": [
    "np.where(gaussSVM.predict(testX) == testY.flatten())[0].shape[0]/testY.shape[0]"
   ]
  },
  {
   "cell_type": "code",
   "execution_count": 61,
   "metadata": {},
   "outputs": [
    {
     "data": {
      "text/plain": [
       "(1200, 1)"
      ]
     },
     "execution_count": 61,
     "metadata": {},
     "output_type": "execute_result"
    }
   ],
   "source": [
    "testY.shape"
   ]
  },
  {
   "cell_type": "code",
   "execution_count": 65,
   "metadata": {},
   "outputs": [
    {
     "name": "stdout",
     "output_type": "stream",
     "text": [
      "The confusion matrix for the given task using custom SVM : \n"
     ]
    },
    {
     "data": {
      "text/html": [
       "<div>\n",
       "<style scoped>\n",
       "    .dataframe tbody tr th:only-of-type {\n",
       "        vertical-align: middle;\n",
       "    }\n",
       "\n",
       "    .dataframe tbody tr th {\n",
       "        vertical-align: top;\n",
       "    }\n",
       "\n",
       "    .dataframe thead th {\n",
       "        text-align: right;\n",
       "    }\n",
       "</style>\n",
       "<table border=\"1\" class=\"dataframe\">\n",
       "  <thead>\n",
       "    <tr style=\"text-align: right;\">\n",
       "      <th></th>\n",
       "      <th>0</th>\n",
       "      <th>1</th>\n",
       "      <th>2</th>\n",
       "      <th>3</th>\n",
       "      <th>4</th>\n",
       "      <th>5</th>\n",
       "    </tr>\n",
       "  </thead>\n",
       "  <tbody>\n",
       "    <tr>\n",
       "      <th>0</th>\n",
       "      <td>76</td>\n",
       "      <td>21</td>\n",
       "      <td>22</td>\n",
       "      <td>24</td>\n",
       "      <td>26</td>\n",
       "      <td>31</td>\n",
       "    </tr>\n",
       "    <tr>\n",
       "      <th>1</th>\n",
       "      <td>5</td>\n",
       "      <td>154</td>\n",
       "      <td>1</td>\n",
       "      <td>5</td>\n",
       "      <td>11</td>\n",
       "      <td>24</td>\n",
       "    </tr>\n",
       "    <tr>\n",
       "      <th>2</th>\n",
       "      <td>7</td>\n",
       "      <td>4</td>\n",
       "      <td>127</td>\n",
       "      <td>24</td>\n",
       "      <td>25</td>\n",
       "      <td>13</td>\n",
       "    </tr>\n",
       "    <tr>\n",
       "      <th>3</th>\n",
       "      <td>26</td>\n",
       "      <td>6</td>\n",
       "      <td>24</td>\n",
       "      <td>128</td>\n",
       "      <td>12</td>\n",
       "      <td>4</td>\n",
       "    </tr>\n",
       "    <tr>\n",
       "      <th>4</th>\n",
       "      <td>25</td>\n",
       "      <td>16</td>\n",
       "      <td>56</td>\n",
       "      <td>36</td>\n",
       "      <td>59</td>\n",
       "      <td>8</td>\n",
       "    </tr>\n",
       "    <tr>\n",
       "      <th>5</th>\n",
       "      <td>21</td>\n",
       "      <td>23</td>\n",
       "      <td>9</td>\n",
       "      <td>7</td>\n",
       "      <td>13</td>\n",
       "      <td>127</td>\n",
       "    </tr>\n",
       "  </tbody>\n",
       "</table>\n",
       "</div>"
      ],
      "text/plain": [
       "    0    1    2    3   4    5\n",
       "0  76   21   22   24  26   31\n",
       "1   5  154    1    5  11   24\n",
       "2   7    4  127   24  25   13\n",
       "3  26    6   24  128  12    4\n",
       "4  25   16   56   36  59    8\n",
       "5  21   23    9    7  13  127"
      ]
     },
     "execution_count": 65,
     "metadata": {},
     "output_type": "execute_result"
    }
   ],
   "source": [
    "from sklearn.metrics import confusion_matrix as cm\n",
    "import pandas as pd\n",
    "matrix = cm(testY.flatten(),predsCustomSVM)\n",
    "cm_df = pd.DataFrame(matrix,dtype=np.int32)\n",
    "print(\"The confusion matrix for the given task using custom SVM : \")\n",
    "cm_df"
   ]
  },
  {
   "cell_type": "code",
   "execution_count": 87,
   "metadata": {},
   "outputs": [
    {
     "data": {
      "text/plain": [
       "[array([ 544,  906,  942,  746,  514,   99, 1090,  111, 1130,   87,  126,\n",
       "         124])]"
      ]
     },
     "execution_count": 87,
     "metadata": {},
     "output_type": "execute_result"
    }
   ],
   "source": [
    "vecs"
   ]
  },
  {
   "cell_type": "code",
   "execution_count": 94,
   "metadata": {},
   "outputs": [],
   "source": [
    "vecs =  [np.random.choice(np.where((np.array(predsCustomSVM) != testY.flatten()) == True)[0], 12)]\n",
    "vec = [(255*trainX[i]).reshape(16,16,3).astype(np.uint8) for i in vecs[0]]\n",
    "for i in range(12):\n",
    "    img = Image.fromarray(vec[i])\n",
    "    img.save('images/Q2/misclassified'+str(i)+'.png')"
   ]
  },
  {
   "cell_type": "code",
   "execution_count": 104,
   "metadata": {},
   "outputs": [
    {
     "name": "stdout",
     "output_type": "stream",
     "text": [
      "4 as 0   \n",
      "0 as 2   \n",
      "0 as 4   \n",
      "0 as 1   \n",
      "3 as 0   \n",
      "0 as 1   \n",
      "2 as 5   \n",
      "4 as 0   \n",
      "4 as 5   \n",
      "0 as 5   \n",
      "4 as 0   \n",
      "1 as 2   \n"
     ]
    }
   ],
   "source": [
    "count = 0\n",
    "for i,j in zip((testY[vecs[0]].flatten()),np.array(predsCustomSVM)[vecs[0]]):\n",
    "    print(str(int(i)) + ' as '+str(j), end = '   ')\n",
    "    if count %4 == 0:\n",
    "        print()"
   ]
  },
  {
   "cell_type": "code",
   "execution_count": 66,
   "metadata": {},
   "outputs": [
    {
     "name": "stdout",
     "output_type": "stream",
     "text": [
      "The confusion matrix for the given task : \n"
     ]
    },
    {
     "data": {
      "text/html": [
       "<div>\n",
       "<style scoped>\n",
       "    .dataframe tbody tr th:only-of-type {\n",
       "        vertical-align: middle;\n",
       "    }\n",
       "\n",
       "    .dataframe tbody tr th {\n",
       "        vertical-align: top;\n",
       "    }\n",
       "\n",
       "    .dataframe thead th {\n",
       "        text-align: right;\n",
       "    }\n",
       "</style>\n",
       "<table border=\"1\" class=\"dataframe\">\n",
       "  <thead>\n",
       "    <tr style=\"text-align: right;\">\n",
       "      <th></th>\n",
       "      <th>0</th>\n",
       "      <th>1</th>\n",
       "      <th>2</th>\n",
       "      <th>3</th>\n",
       "      <th>4</th>\n",
       "      <th>5</th>\n",
       "    </tr>\n",
       "  </thead>\n",
       "  <tbody>\n",
       "    <tr>\n",
       "      <th>0</th>\n",
       "      <td>79</td>\n",
       "      <td>21</td>\n",
       "      <td>22</td>\n",
       "      <td>24</td>\n",
       "      <td>23</td>\n",
       "      <td>31</td>\n",
       "    </tr>\n",
       "    <tr>\n",
       "      <th>1</th>\n",
       "      <td>6</td>\n",
       "      <td>154</td>\n",
       "      <td>1</td>\n",
       "      <td>5</td>\n",
       "      <td>10</td>\n",
       "      <td>24</td>\n",
       "    </tr>\n",
       "    <tr>\n",
       "      <th>2</th>\n",
       "      <td>8</td>\n",
       "      <td>4</td>\n",
       "      <td>130</td>\n",
       "      <td>25</td>\n",
       "      <td>21</td>\n",
       "      <td>12</td>\n",
       "    </tr>\n",
       "    <tr>\n",
       "      <th>3</th>\n",
       "      <td>26</td>\n",
       "      <td>6</td>\n",
       "      <td>24</td>\n",
       "      <td>128</td>\n",
       "      <td>12</td>\n",
       "      <td>4</td>\n",
       "    </tr>\n",
       "    <tr>\n",
       "      <th>4</th>\n",
       "      <td>26</td>\n",
       "      <td>16</td>\n",
       "      <td>58</td>\n",
       "      <td>36</td>\n",
       "      <td>58</td>\n",
       "      <td>6</td>\n",
       "    </tr>\n",
       "    <tr>\n",
       "      <th>5</th>\n",
       "      <td>22</td>\n",
       "      <td>23</td>\n",
       "      <td>12</td>\n",
       "      <td>7</td>\n",
       "      <td>12</td>\n",
       "      <td>124</td>\n",
       "    </tr>\n",
       "  </tbody>\n",
       "</table>\n",
       "</div>"
      ],
      "text/plain": [
       "    0    1    2    3   4    5\n",
       "0  79   21   22   24  23   31\n",
       "1   6  154    1    5  10   24\n",
       "2   8    4  130   25  21   12\n",
       "3  26    6   24  128  12    4\n",
       "4  26   16   58   36  58    6\n",
       "5  22   23   12    7  12  124"
      ]
     },
     "execution_count": 66,
     "metadata": {},
     "output_type": "execute_result"
    }
   ],
   "source": [
    "matrixsk = cm(list(testY.flatten()),list(gaussSVM.predict(testX)))\n",
    "cm_dfsk = pd.DataFrame(matrixsk,dtype=np.int32)\n",
    "print(\"The confusion matrix for the given task : \")\n",
    "cm_dfsk"
   ]
  },
  {
   "cell_type": "markdown",
   "metadata": {},
   "source": [
    "# 5-Fold cross validation"
   ]
  },
  {
   "cell_type": "code",
   "execution_count": null,
   "metadata": {},
   "outputs": [],
   "source": []
  },
  {
   "cell_type": "code",
   "execution_count": null,
   "metadata": {},
   "outputs": [],
   "source": []
  },
  {
   "cell_type": "code",
   "execution_count": null,
   "metadata": {},
   "outputs": [],
   "source": [
    "from sklearn.svm import SVC"
   ]
  },
  {
   "cell_type": "code",
   "execution_count": null,
   "metadata": {},
   "outputs": [],
   "source": [
    "gamma = 0.001\n",
    "checkC = [1e-5,1e-3,1,5,10]\n",
    "trainCombined = np.concatenate([trainX, trainY], axis = 1)\n",
    "np.random.shuffle(trainCombined)\n",
    "trainX, trainY = trainCombined[:,:-1], trainCombined[:,-1:]\n",
    "accDict = {}\n",
    "K = 5\n",
    "valSize = trainX.shape[0]//K\n",
    "for c in checkC :\n",
    "    bestAcc = 0; bestModel = None; avgAcc = 0\n",
    "    for i in range(K):\n",
    "        svmModel = SVC(kernel='rbf', gamma=gamma, C = c)\n",
    "        ind = np.where(np.logical_or(np.array([i for i in range(trainX.shape[0])])>=(i+1)*valSize, np.array([i for i in range(trainX.shape[0])])<i*valSize) == True)[0]\n",
    "        svmModel.fit(trainX[ind], trainY[ind].flatten())\n",
    "        preds = svmModel.predict(trainX[i*valSize:(i+1)*valSize])\n",
    "        acc = np.where((trainY[i*valSize:(i+1)*valSize].flatten() == preds) == True)[0].shape[0]/valSize\n",
    "        if acc > bestAcc :\n",
    "            bestAcc = acc\n",
    "            bestModel = svmModel\n",
    "        avgAcc += acc\n",
    "    #validation accuracy\n",
    "    svmModel = SVC(kernel='rbf', gamma=gamma, C = c)\n",
    "    svmModel.fit(trainX, trainY.flatten())\n",
    "    preds = svmModel.predict(testX)\n",
    "    valAcc = np.where((testY.flatten() == preds) == True)[0].shape[0]/valSize\n",
    "    accDict[c] = (avgAcc/K, valAcc, bestModel)\n"
   ]
  },
  {
   "cell_type": "code",
   "execution_count": 24,
   "metadata": {},
   "outputs": [],
   "source": [
    "accDictOg = accDict"
   ]
  },
  {
   "cell_type": "code",
   "execution_count": 39,
   "metadata": {},
   "outputs": [
    {
     "data": {
      "text/plain": [
       "{1e-05: (0.15896358543417366, 0.4025, SVC(C=1e-05, gamma=0.001)),\n",
       " 0.001: (0.15896358543417366, 0.4025, SVC(C=0.001, gamma=0.001)),\n",
       " 1: (0.5471288515406163, 0.5608333333333333, SVC(C=1, gamma=0.001)),\n",
       " 5: (0.5792016806722688, 0.5858333333333333, SVC(C=5, gamma=0.001)),\n",
       " 10: (0.5923669467787115, 0.5983333333333334, SVC(C=10, gamma=0.001))}"
      ]
     },
     "execution_count": 39,
     "metadata": {},
     "output_type": "execute_result"
    }
   ],
   "source": [
    "import pickle\n",
    "with open('SVM_modelsQ2/crossFold.pickl','wb') as f:\n",
    "    pickle.dump(accDict,f)\n",
    "accDict"
   ]
  },
  {
   "cell_type": "code",
   "execution_count": 30,
   "metadata": {},
   "outputs": [],
   "source": [
    "for k in list(accDict.keys()):\n",
    "    accDict[k] = (accDict[k][0], accDict[k][1]*valSize/testY.shape[0] ,accDict[k][2])"
   ]
  },
  {
   "cell_type": "code",
   "execution_count": 37,
   "metadata": {},
   "outputs": [
    {
     "data": {
      "image/png": "[encoded data removed]",
      "text/plain": [
       "<Figure size 864x720 with 1 Axes>"
      ]
     },
     "metadata": {
      "needs_background": "light"
     },
     "output_type": "display_data"
    }
   ],
   "source": [
    "from matplotlib import pyplot as plt\n",
    "plt.figure(figsize=(12,10))\n",
    "plt.plot(np.log10(checkC),[accDict[i][0] for i in accDict] ,label = 'crossFoldAcc')\n",
    "plt.plot(np.log10(checkC),[accDict[i][1] for i in accDict] , label = 'valAcc')\n",
    "plt.legend()\n",
    "plt.title('CrossFoldAcc and Val Acc vs log(C)')\n",
    "plt.savefig('images/Q2/CrossFoldGraph.png')"
   ]
  },
  {
   "cell_type": "markdown",
   "metadata": {},
   "source": [
    "#clearly C = 10 gives the best accuracy "
   ]
  },
  {
   "cell_type": "code",
   "execution_count": 255,
   "metadata": {},
   "outputs": [
    {
     "data": {
      "text/html": [
       "<style>#sk-container-id-5 {color: black;background-color: white;}#sk-container-id-5 pre{padding: 0;}#sk-container-id-5 div.sk-toggleable {background-color: white;}#sk-container-id-5 label.sk-toggleable__label {cursor: pointer;display: block;width: 100%;margin-bottom: 0;padding: 0.3em;box-sizing: border-box;text-align: center;}#sk-container-id-5 label.sk-toggleable__label-arrow:before {content: \"▸\";float: left;margin-right: 0.25em;color: #696969;}#sk-container-id-5 label.sk-toggleable__label-arrow:hover:before {color: black;}#sk-container-id-5 div.sk-estimator:hover label.sk-toggleable__label-arrow:before {color: black;}#sk-container-id-5 div.sk-toggleable__content {max-height: 0;max-width: 0;overflow: hidden;text-align: left;background-color: #f0f8ff;}#sk-container-id-5 div.sk-toggleable__content pre {margin: 0.2em;color: black;border-radius: 0.25em;background-color: #f0f8ff;}#sk-container-id-5 input.sk-toggleable__control:checked~div.sk-toggleable__content {max-height: 200px;max-width: 100%;overflow: auto;}#sk-container-id-5 input.sk-toggleable__control:checked~label.sk-toggleable__label-arrow:before {content: \"▾\";}#sk-container-id-5 div.sk-estimator input.sk-toggleable__control:checked~label.sk-toggleable__label {background-color: #d4ebff;}#sk-container-id-5 div.sk-label input.sk-toggleable__control:checked~label.sk-toggleable__label {background-color: #d4ebff;}#sk-container-id-5 input.sk-hidden--visually {border: 0;clip: rect(1px 1px 1px 1px);clip: rect(1px, 1px, 1px, 1px);height: 1px;margin: -1px;overflow: hidden;padding: 0;position: absolute;width: 1px;}#sk-container-id-5 div.sk-estimator {font-family: monospace;background-color: #f0f8ff;border: 1px dotted black;border-radius: 0.25em;box-sizing: border-box;margin-bottom: 0.5em;}#sk-container-id-5 div.sk-estimator:hover {background-color: #d4ebff;}#sk-container-id-5 div.sk-parallel-item::after {content: \"\";width: 100%;border-bottom: 1px solid gray;flex-grow: 1;}#sk-container-id-5 div.sk-label:hover label.sk-toggleable__label {background-color: #d4ebff;}#sk-container-id-5 div.sk-serial::before {content: \"\";position: absolute;border-left: 1px solid gray;box-sizing: border-box;top: 0;bottom: 0;left: 50%;z-index: 0;}#sk-container-id-5 div.sk-serial {display: flex;flex-direction: column;align-items: center;background-color: white;padding-right: 0.2em;padding-left: 0.2em;position: relative;}#sk-container-id-5 div.sk-item {position: relative;z-index: 1;}#sk-container-id-5 div.sk-parallel {display: flex;align-items: stretch;justify-content: center;background-color: white;position: relative;}#sk-container-id-5 div.sk-item::before, #sk-container-id-5 div.sk-parallel-item::before {content: \"\";position: absolute;border-left: 1px solid gray;box-sizing: border-box;top: 0;bottom: 0;left: 50%;z-index: -1;}#sk-container-id-5 div.sk-parallel-item {display: flex;flex-direction: column;z-index: 1;position: relative;background-color: white;}#sk-container-id-5 div.sk-parallel-item:first-child::after {align-self: flex-end;width: 50%;}#sk-container-id-5 div.sk-parallel-item:last-child::after {align-self: flex-start;width: 50%;}#sk-container-id-5 div.sk-parallel-item:only-child::after {width: 0;}#sk-container-id-5 div.sk-dashed-wrapped {border: 1px dashed gray;margin: 0 0.4em 0.5em 0.4em;box-sizing: border-box;padding-bottom: 0.4em;background-color: white;}#sk-container-id-5 div.sk-label label {font-family: monospace;font-weight: bold;display: inline-block;line-height: 1.2em;}#sk-container-id-5 div.sk-label-container {text-align: center;}#sk-container-id-5 div.sk-container {/* jupyter's `normalize.less` sets `[hidden] { display: none; }` but bootstrap.min.css set `[hidden] { display: none !important; }` so we also need the `!important` here to be able to override the default hidden behavior on the sphinx rendered scikit-learn.org. See: https://github.com/scikit-learn/scikit-learn/issues/21755 */display: inline-block !important;position: relative;}#sk-container-id-5 div.sk-text-repr-fallback {display: none;}</style><div id=\"sk-container-id-5\" class=\"sk-top-container\"><div class=\"sk-text-repr-fallback\"><pre>SVC(C=10, gamma=0.001)</pre><b>In a Jupyter environment, please rerun this cell to show the HTML representation or trust the notebook. <br />On GitHub, the HTML representation is unable to render, please try loading this page with nbviewer.org.</b></div><div class=\"sk-container\" hidden><div class=\"sk-item\"><div class=\"sk-estimator sk-toggleable\"><input class=\"sk-toggleable__control sk-hidden--visually\" id=\"sk-estimator-id-5\" type=\"checkbox\" checked><label for=\"sk-estimator-id-5\" class=\"sk-toggleable__label sk-toggleable__label-arrow\">SVC</label><div class=\"sk-toggleable__content\"><pre>SVC(C=10, gamma=0.001)</pre></div></div></div></div></div>"
      ],
      "text/plain": [
       "SVC(C=10, gamma=0.001)"
      ]
     },
     "execution_count": 255,
     "metadata": {},
     "output_type": "execute_result"
    }
   ],
   "source": [
    "model10 = SVC(kernel='rbf',gamma = 0.001, C = 10)\n",
    "model10.fit(trainX,trainY.flatten())"
   ]
  },
  {
   "cell_type": "code",
   "execution_count": null,
   "metadata": {},
   "outputs": [],
   "source": []
  }
 ],
 "metadata": {
  "kernelspec": {
   "display_name": "Python 3.10.0 64-bit",
   "language": "python",
   "name": "python3"
  },
  "language_info": {
   "codemirror_mode": {
    "name": "ipython",
    "version": 3
   },
   "file_extension": ".py",
   "mimetype": "text/x-python",
   "name": "python",
   "nbconvert_exporter": "python",
   "pygments_lexer": "ipython3",
   "version": "3.10.0"
  },
  "orig_nbformat": 4,
  "vscode": {
   "interpreter": {
    "hash": "aee8b7b246df8f9039afb4144a1f6fd8d2ca17a180786b69acc140d282b71a49"
   }
  }
 },
 "nbformat": 4,
 "nbformat_minor": 2
}
