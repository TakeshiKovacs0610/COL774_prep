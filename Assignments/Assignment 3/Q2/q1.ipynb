{
 "cells": [
  {
   "cell_type": "code",
   "execution_count": 1,
   "metadata": {},
   "outputs": [],
   "source": [
    "import numpy as np \n",
    "from sklearn.neural_network import MLPClassifier\n",
    "import matplotlib.pyplot as plt \n",
    "from NeuralNetwork import NeuralNetwork as NN\n",
    "from helper import load, get_metric\n",
    "import pickle\n",
    "import pandas as pd\n",
    "import dataframe_image as dfi"
   ]
  },
  {
   "cell_type": "code",
   "execution_count": 2,
   "metadata": {},
   "outputs": [
    {
     "name": "stderr",
     "output_type": "stream",
     "text": [
      "/Library/Frameworks/Python.framework/Versions/3.10/lib/python3.10/site-packages/sklearn/preprocessing/_encoders.py:975: FutureWarning: `sparse` was renamed to `sparse_output` in version 1.2 and will be removed in 1.4. `sparse_output` is ignored unless you leave `sparse` to its default value.\n",
      "  warnings.warn(\n"
     ]
    }
   ],
   "source": [
    "trainX, trainY, testX, testY = load()"
   ]
  },
  {
   "cell_type": "code",
   "execution_count": 11,
   "metadata": {},
   "outputs": [
    {
     "name": "stdout",
     "output_type": "stream",
     "text": [
      "Loss for epoch : 0 == 1.6115584282940199\n",
      "Loss for epoch : 200 == 0.8824682171180939\n",
      "Loss for epoch : 400 == 0.8082120206779654\n",
      "Loss for epoch : 600 == 0.7753706805155364\n",
      "Loss for epoch : 800 == 0.75363675788489\n",
      " MAXIMUM EPOCHS REACHED WITHOUT DESIRED CONVERGENCE. TERMINATING TRAINING!!\n"
     ]
    }
   ],
   "source": [
    "network1 = NN([1024, 1 , 5], activation_func='sigmoid')\n",
    "network1.fit(trainX, trainY, lambda x : 0.01, 1000, batch_size=32, print_every= 200, stop_thresh=1e-6)"
   ]
  },
  {
   "cell_type": "code",
   "execution_count": 15,
   "metadata": {},
   "outputs": [
    {
     "data": {
      "text/plain": [
       "0.653"
      ]
     },
     "execution_count": 15,
     "metadata": {},
     "output_type": "execute_result"
    }
   ],
   "source": [
    "np.mean(network1.predict(testX) == testY.argmax(axis=1))"
   ]
  },
  {
   "cell_type": "markdown",
   "metadata": {},
   "source": [
    "# PART - B"
   ]
  },
  {
   "cell_type": "code",
   "execution_count": 3,
   "metadata": {},
   "outputs": [
    {
     "name": "stdout",
     "output_type": "stream",
     "text": [
      "Training architecture :  [1024, 1, 5]\n",
      "Loss for epoch : 0 == 1.611553315151602\n",
      "Loss for epoch : 200 == 0.8928733716539861\n",
      "Loss for epoch : 400 == 0.8182091580862504\n",
      "Loss for epoch : 600 == 0.7818657520155444\n",
      "Loss for epoch : 800 == 0.7625328640725234\n",
      " MAXIMUM EPOCHS REACHED WITHOUT DESIRED CONVERGENCE. TERMINATING TRAINING!!\n",
      "Training architecture :  [1024, 5, 5]\n",
      "Loss for epoch : 0 == 1.6086412328097077\n",
      "Loss for epoch : 200 == 0.7033803374942947\n",
      "Loss for epoch : 400 == 0.6770401121995375\n",
      "Loss for epoch : 600 == 0.6600773441435909\n",
      "Loss for epoch : 800 == 0.6473392489014014\n",
      " MAXIMUM EPOCHS REACHED WITHOUT DESIRED CONVERGENCE. TERMINATING TRAINING!!\n",
      "Training architecture :  [1024, 10, 5]\n",
      "Loss for epoch : 0 == 1.6064470663490422\n",
      "Loss for epoch : 200 == 0.6952661802584962\n",
      "Loss for epoch : 400 == 0.6436315278393967\n",
      "Loss for epoch : 600 == 0.6073158733226194\n",
      "Loss for epoch : 800 == 0.575713771570003\n",
      " MAXIMUM EPOCHS REACHED WITHOUT DESIRED CONVERGENCE. TERMINATING TRAINING!!\n",
      "Training architecture :  [1024, 50, 5]\n",
      "Loss for epoch : 0 == 1.5856545021212054\n",
      "Loss for epoch : 200 == 0.6936540910671329\n",
      "Loss for epoch : 400 == 0.6396505266274263\n",
      "Loss for epoch : 600 == 0.587668868461611\n",
      "Loss for epoch : 800 == 0.5396706368522499\n",
      " MAXIMUM EPOCHS REACHED WITHOUT DESIRED CONVERGENCE. TERMINATING TRAINING!!\n",
      "Training architecture :  [1024, 100, 5]\n",
      "Loss for epoch : 0 == 1.5881574359254231\n",
      "Loss for epoch : 200 == 0.6956464881900328\n",
      "Loss for epoch : 400 == 0.6473053285902017\n",
      "Loss for epoch : 600 == 0.589040901431648\n",
      "Loss for epoch : 800 == 0.5408402365919187\n",
      " MAXIMUM EPOCHS REACHED WITHOUT DESIRED CONVERGENCE. TERMINATING TRAINING!!\n"
     ]
    }
   ],
   "source": [
    "layers_to_test = [[1024, 1 , 5], [1024, 5 , 5], [1024, 10 , 5] , [1024, 50 , 5], [1024, 100 , 5]]\n",
    "for layer_info in layers_to_test:\n",
    "    print(\"Training architecture : \", layer_info)\n",
    "    network1 = NN(layer_info, activation_func='sigmoid')\n",
    "    network1.fit(trainX, trainY, lambda x : 0.01, 1000, batch_size=32, print_every= 200, stop_thresh=1e-6)\n",
    "    network1DICT = {\"W\": network1.W, \"b\" : network1.b, \"epoch_losses\" : network1.epoch_losses, \"hidden_layers\" : network1.layers_config , \"activation\" : network1.activation_function, \"leakyReluSlope\" : network1.leakyRelu_slope}\n",
    "    model_name = \"models/part_b/model_H_\" + \"_\".join([str(i) for i in layer_info]) + \"_EPOCH_\" + str(1000)+\"_BATCH_32_activation_sigmoid.pickle\"\n",
    "    with open(model_name,'wb') as f:\n",
    "        pickle.dump(network1DICT,f)\n",
    "    report = get_metric(testY.argmax(axis = 1), network1.predict(testX.T))\n",
    "    report = pd.DataFrame(report).transpose()\n",
    "    result = \"results/part_b/model_H_\" + \"_\".join([str(i) for i in layer_info]) + \"_EPOCH_\" + str(1000)+\"_BATCH_32_activation_sigmoid.csv\"\n",
    "    report.to_csv(result)\n",
    "    "
   ]
  },
  {
   "cell_type": "code",
   "execution_count": 5,
   "metadata": {},
   "outputs": [
    {
     "data": {
      "image/png": "[encoded data removed]",
      "text/plain": [
       "<Figure size 432x288 with 1 Axes>"
      ]
     },
     "metadata": {
      "needs_background": "light"
     },
     "output_type": "display_data"
    }
   ],
   "source": [
    "from matplotlib import pyplot as plt\n",
    "average_acc = []\n",
    "for layer_info in layers_to_test:\n",
    "    result = \"results/part_b/model_H_\" + \"_\".join([str(i) for i in layer_info]) + \"_EPOCH_\" + str(1000)+\"_BATCH_32_activation_sigmoid.csv\"\n",
    "    report = pd.read_csv(result)\n",
    "    average_acc.append(report.iloc[5][1])\n",
    "plt.plot([1,5,10,50,100], average_acc)\n",
    "plt.xlabel(\"Number of hidden layers\")\n",
    "plt.ylabel(\"Average accuracy\")\n",
    "plt.title(\"Average accuracy vs Number of hidden layers\")\n",
    "plt.savefig(\"results/part_b/average_accuracy_vs_hidden_layers.png\")"
   ]
  },
  {
   "cell_type": "markdown",
   "metadata": {},
   "source": [
    "# PART - C"
   ]
  },
  {
   "cell_type": "code",
   "execution_count": 7,
   "metadata": {},
   "outputs": [
    {
     "name": "stdout",
     "output_type": "stream",
     "text": [
      "Training architecture :  [1024, 512, 5]\n",
      "Loss for epoch : 0 == 1.5899863646777759\n",
      "Loss for epoch : 200 == 0.6985057618604792\n",
      "Loss for epoch : 400 == 0.668660049467737\n",
      "Loss for epoch : 600 == 0.6255165242101917\n",
      "Loss for epoch : 800 == 0.579521065321335\n",
      " MAXIMUM EPOCHS REACHED WITHOUT DESIRED CONVERGENCE. TERMINATING TRAINING!!\n",
      "Training architecture :  [1024, 512, 256, 5]\n",
      "Loss for epoch : 0 == 1.6136440146565105\n",
      "Loss for epoch : 200 == 0.6965143662217319\n",
      "Loss for epoch : 400 == 0.6324406039695445\n",
      "Loss for epoch : 600 == 0.5370627260487939\n",
      "Loss for epoch : 800 == 0.4632246888147614\n",
      " MAXIMUM EPOCHS REACHED WITHOUT DESIRED CONVERGENCE. TERMINATING TRAINING!!\n",
      "Training architecture :  [1024, 512, 256, 128, 5]\n",
      "Loss for epoch : 0 == 1.6149754509464107\n",
      "Loss for epoch : 200 == 0.7044838335672838\n",
      "Loss for epoch : 400 == 0.602891520603255\n",
      "Loss for epoch : 600 == 0.5123405811543883\n",
      "Loss for epoch : 800 == 0.43872757504966386\n",
      " MAXIMUM EPOCHS REACHED WITHOUT DESIRED CONVERGENCE. TERMINATING TRAINING!!\n",
      "Training architecture :  [1024, 512, 256, 128, 64, 5]\n",
      "Loss for epoch : 0 == 1.6118603647613015\n",
      "Loss for epoch : 200 == 0.7263102867552085\n",
      "Loss for epoch : 400 == 0.645697273393664\n",
      "Loss for epoch : 600 == 0.5181232929793597\n",
      "Loss for epoch : 800 == 0.43786302317010434\n",
      " MAXIMUM EPOCHS REACHED WITHOUT DESIRED CONVERGENCE. TERMINATING TRAINING!!\n"
     ]
    }
   ],
   "source": [
    "layers_to_test = [[1024, 512 , 5], [1024, 512, 256 , 5], [1024, 512, 256, 128 , 5] , [1024, 512, 256, 128, 64 , 5]]\n",
    "for layer_info in layers_to_test:\n",
    "    print(\"Training architecture : \", layer_info)\n",
    "    network1 = NN(layer_info, activation_func='sigmoid')\n",
    "    network1.fit(trainX, trainY, lambda x : 0.01, 1000, batch_size=32, print_every= 200, stop_thresh=1e-6)\n",
    "    network1DICT = {\"W\": network1.W, \"b\" : network1.b, \"epoch_losses\" : network1.epoch_losses, \"hidden_layers\" : network1.layers_config , \"activation\" : network1.activation_function, \"leakyReluSlope\" : network1.leakyRelu_slope}\n",
    "    model_name = \"models/part_c/model_H_\" + \"_\".join([str(i) for i in layer_info]) + \"_EPOCH_\" + str(1000)+\"_BATCH_32_activation_sigmoid.pickle\"\n",
    "    with open(model_name,'wb') as f:\n",
    "        pickle.dump(network1DICT,f)\n",
    "    report = get_metric(testY.argmax(axis = 1), network1.predict(testX.T))\n",
    "    report = pd.DataFrame(report).transpose()\n",
    "    result = \"results/part_c/model_H_\" + \"_\".join([str(i) for i in layer_info]) + \"_EPOCH_\" + str(1000)+\"_BATCH_32_activation_sigmoid.csv\"\n",
    "    report.to_csv(result)\n",
    "    "
   ]
  },
  {
   "cell_type": "code",
   "execution_count": 9,
   "metadata": {},
   "outputs": [
    {
     "data": {
      "image/png": "[encoded data removed]",
      "text/plain": [
       "<Figure size 432x288 with 1 Axes>"
      ]
     },
     "metadata": {
      "needs_background": "light"
     },
     "output_type": "display_data"
    }
   ],
   "source": [
    "average_acc = []\n",
    "for layer_info in layers_to_test:\n",
    "    result = \"results/part_c/model_H_\" + \"_\".join([str(i) for i in layer_info]) + \"_EPOCH_\" + str(1000)+\"_BATCH_32_activation_sigmoid.csv\"\n",
    "    report = pd.read_csv(result)\n",
    "    average_acc.append(report.iloc[5][1])\n",
    "plt.plot([1,2,3,4], average_acc)\n",
    "plt.xlabel(\"Number of hidden layers\")\n",
    "plt.ylabel(\"Average accuracy\")\n",
    "plt.savefig(\"results/part_c/average_accuracy_vs_hidden_layers.png\")"
   ]
  },
  {
   "cell_type": "code",
   "execution_count": 10,
   "metadata": {},
   "outputs": [],
   "source": [
    "import dataframe_image as dfi\n",
    "for layer_info in layers_to_test:\n",
    "    result = \"results/part_c/model_H_\" + \"_\".join([str(i) for i in layer_info]) + \"_EPOCH_\" + str(1000)+\"_BATCH_32_activation_sigmoid\"\n",
    "    report = pd.read_csv(result + '.csv')\n",
    "    dfi.export(report,result + \".png\")"
   ]
  },
  {
   "cell_type": "code",
   "execution_count": 11,
   "metadata": {},
   "outputs": [],
   "source": [
    "# train metrics\n",
    "for layer_info in layers_to_test:\n",
    "    model_name = \"models/part_c/model_H_\" + \"_\".join([str(i) for i in layer_info]) + \"_EPOCH_\" + str(1000)+\"_BATCH_32_activation_sigmoid.pickle\"\n",
    "    with open(model_name,'rb') as f:\n",
    "        network1DICT = pickle.load(f)\n",
    "    network1 = NN(layer_info, activation_func='sigmoid')\n",
    "    network1.W = network1DICT[\"W\"]\n",
    "    network1.b = network1DICT[\"b\"]\n",
    "    network1.layers_config = network1DICT[\"hidden_layers\"]\n",
    "    network1.activation_function = network1DICT[\"activation\"]\n",
    "    network1.leakyRelu_slope = network1DICT[\"leakyReluSlope\"]\n",
    "    report = get_metric(trainY.argmax(axis = 1), network1.predict(trainX.T))\n",
    "    report = pd.DataFrame(report).transpose()\n",
    "    result = \"results/part_c/train_model_H_\" + \"_\".join([str(i) for i in layer_info]) + \"_EPOCH_\" + str(1000)+\"_BATCH_32_activation_sigmoid\"\n",
    "    report.to_csv(result + \".csv\")\n",
    "    dfi.export(report,result + \".png\")"
   ]
  },
  {
   "cell_type": "code",
   "execution_count": 12,
   "metadata": {},
   "outputs": [
    {
     "data": {
      "image/png": "[encoded data removed]",
      "text/plain": [
       "<Figure size 432x288 with 1 Axes>"
      ]
     },
     "metadata": {
      "needs_background": "light"
     },
     "output_type": "display_data"
    }
   ],
   "source": [
    "average_acc = []\n",
    "for layer_info in layers_to_test:\n",
    "    result = \"results/part_c/train_model_H_\" + \"_\".join([str(i) for i in layer_info]) + \"_EPOCH_\" + str(1000)+\"_BATCH_32_activation_sigmoid.csv\"\n",
    "    report = pd.read_csv(result)\n",
    "    average_acc.append(report.iloc[5][1])\n",
    "plt.plot([1,2,3,4], average_acc)\n",
    "plt.xlabel(\"Number of hidden layers\")\n",
    "plt.ylabel(\"Average accuracy\")\n",
    "plt.savefig(\"results/part_c/train_average_accuracy_vs_hidden_layers.png\")"
   ]
  },
  {
   "cell_type": "markdown",
   "metadata": {},
   "source": [
    "# PART - E"
   ]
  },
  {
   "cell_type": "code",
   "execution_count": 20,
   "metadata": {},
   "outputs": [
    {
     "name": "stdout",
     "output_type": "stream",
     "text": [
      "Training architecture :  [1024, 512, 256, 5]\n",
      "Loss for epoch : 0 == 1.3659589170028161\n",
      "Loss for epoch : 200 == 0.6404314021953401\n",
      "Loss for epoch : 400 == 0.5688115185470687\n",
      "Loss for epoch : 600 == 0.5151606419694613\n",
      "Loss for epoch : 800 == 0.47550514201492217\n",
      " MAXIMUM EPOCHS REACHED WITHOUT DESIRED CONVERGENCE. TERMINATING TRAINING!!\n",
      "Training architecture :  [1024, 512, 256, 128, 5]\n",
      "Loss for epoch : 0 == 1.387479018315105\n",
      "Loss for epoch : 200 == 0.520260189037685\n",
      "Loss for epoch : 400 == 0.40114853804833095\n",
      "Loss for epoch : 600 == 0.32938026852361957\n",
      "Loss for epoch : 800 == 0.2659329278771682\n",
      " MAXIMUM EPOCHS REACHED WITHOUT DESIRED CONVERGENCE. TERMINATING TRAINING!!\n",
      "Training architecture :  [1024, 512, 256, 128, 64, 5]\n",
      "Loss for epoch : 0 == 1.4258741372304724\n",
      "Loss for epoch : 200 == 0.452029326427275\n",
      "Loss for epoch : 400 == 0.3371793698401638\n",
      "Loss for epoch : 600 == 0.24769963227884287\n",
      "Loss for epoch : 800 == 0.17690177599480222\n",
      " MAXIMUM EPOCHS REACHED WITHOUT DESIRED CONVERGENCE. TERMINATING TRAINING!!\n"
     ]
    }
   ],
   "source": [
    "layers_to_test = [[1024, 512, 256 , 5], [1024, 512, 256, 128 , 5] , [1024, 512, 256, 128, 64 , 5]]\n",
    "for layer_info in layers_to_test:\n",
    "    print(\"Training architecture : \", layer_info)\n",
    "    network1 = NN(layer_info, activation_func='ReLU')\n",
    "    network1.fit(trainX, trainY, lambda x : 0.01 / np.sqrt(x), 1000, batch_size=32, print_every= 200, stop_thresh=1e-6)\n",
    "    network1DICT = {\"W\": network1.W, \"b\" : network1.b, \"epoch_losses\" : network1.epoch_losses, \"hidden_layers\" : network1.layers_config , \"activation\" : network1.activation_function, \"leakyReluSlope\" : network1.leakyRelu_slope}\n",
    "    model_name = \"models/part_e/model_H_\" + \"_\".join([str(i) for i in layer_info]) + \"_EPOCH_\" + str(1000)+\"_BATCH_32_activation_relu.pickle\"\n",
    "    with open(model_name,'wb') as f:\n",
    "        pickle.dump(network1DICT,f)\n",
    "    report_test = get_metric(testY.argmax(axis = 1), network1.predict(testX.T))\n",
    "    report_test = pd.DataFrame(report_test).transpose()\n",
    "    result_test = \"results/part_e/model_H_\" + \"_\".join([str(i) for i in layer_info]) + \"_EPOCH_\" + str(1000)+\"_BATCH_32_activation_relu\"\n",
    "    report_test.to_csv(result_test + \".csv\")\n",
    "    dfi.export(report_test,result_test + \".png\")\n",
    "\n",
    "    report_train = get_metric(trainY.argmax(axis = 1), network1.predict(trainX.T))\n",
    "    report_train = pd.DataFrame(report_train).transpose()\n",
    "    result_train = \"results/part_e/train_model_H_\" + \"_\".join([str(i) for i in layer_info]) + \"_EPOCH_\" + str(1000)+\"_BATCH_32_activation_relu\"\n",
    "    report_train.to_csv(result_train + \".csv\")\n",
    "    dfi.export(report_train,result_train + \".png\")\n",
    "    "
   ]
  },
  {
   "cell_type": "code",
   "execution_count": 4,
   "metadata": {},
   "outputs": [],
   "source": [
    "layers_to_test = [[1024, 512 , 5], [1024, 512, 256 , 5], [1024, 512, 256, 128 , 5] , [1024, 512, 256, 128, 64 , 5]]"
   ]
  },
  {
   "cell_type": "code",
   "execution_count": 25,
   "metadata": {},
   "outputs": [
    {
     "data": {
      "image/png": "[encoded data removed]",
      "text/plain": [
       "<Figure size 432x288 with 1 Axes>"
      ]
     },
     "metadata": {
      "needs_background": "light"
     },
     "output_type": "display_data"
    }
   ],
   "source": [
    "average_acc = []\n",
    "for layer_info in layers_to_test:\n",
    "    result = \"results/part_e/train_model_H_\" + \"_\".join([str(i) for i in layer_info]) + \"_EPOCH_\" + str(1000)+\"_BATCH_32_activation_relu.csv\"\n",
    "    report = pd.read_csv(result)\n",
    "    average_acc.append(report.iloc[5][1])\n",
    "plt.plot([1,2,3,4], average_acc)\n",
    "plt.xlabel(\"Number of hidden layers\")\n",
    "plt.ylabel(\"Average accuracy\")\n",
    "plt.savefig(\"results/part_e/train_average_accuracy_vs_hidden_layers.png\")"
   ]
  },
  {
   "cell_type": "code",
   "execution_count": 27,
   "metadata": {},
   "outputs": [
    {
     "data": {
      "image/png": "[encoded data removed]",
      "text/plain": [
       "<Figure size 432x288 with 1 Axes>"
      ]
     },
     "metadata": {
      "needs_background": "light"
     },
     "output_type": "display_data"
    }
   ],
   "source": [
    "average_acc = []\n",
    "for layer_info in layers_to_test:\n",
    "    result = \"results/part_e/model_H_\" + \"_\".join([str(i) for i in layer_info]) + \"_EPOCH_\" + str(1000)+\"_BATCH_32_activation_relu.csv\"\n",
    "    report = pd.read_csv(result)\n",
    "    average_acc.append(report.iloc[5][1])\n",
    "plt.plot([1,2,3,4], average_acc)\n",
    "plt.xlabel(\"Number of hidden layers\")\n",
    "plt.ylabel(\"Average accuracy\")\n",
    "plt.savefig(\"results/part_e/average_accuracy_vs_hidden_layers.png\")"
   ]
  },
  {
   "cell_type": "markdown",
   "metadata": {},
   "source": [
    "# PART-F"
   ]
  },
  {
   "cell_type": "code",
   "execution_count": 4,
   "metadata": {},
   "outputs": [],
   "source": [
    "layers_to_test = [[1024, 512 , 5], [1024, 512, 256 , 5], [1024, 512, 256, 128 , 5] , [1024, 512, 256, 128, 64 , 5]]\n",
    "layers_to_test_MLP = [i[1:-1] for i in layers_to_test]"
   ]
  },
  {
   "cell_type": "code",
   "execution_count": 5,
   "metadata": {},
   "outputs": [],
   "source": [
    "import time"
   ]
  },
  {
   "cell_type": "code",
   "execution_count": 6,
   "metadata": {},
   "outputs": [
    {
     "name": "stdout",
     "output_type": "stream",
     "text": [
      "Testing layer info :  [512]\n",
      "Time taken to train MLP with [512] hidden layers : 110.92566418647766 seconds\n",
      "Testing layer info :  [512, 256]\n",
      "Time taken to train MLP with [512, 256] hidden layers : 149.16316509246826 seconds\n",
      "Testing layer info :  [512, 256, 128]\n",
      "Time taken to train MLP with [512, 256, 128] hidden layers : 172.82021689414978 seconds\n",
      "Testing layer info :  [512, 256, 128, 64]\n",
      "Time taken to train MLP with [512, 256, 128, 64] hidden layers : 344.9642608165741 seconds\n"
     ]
    }
   ],
   "source": [
    "for layer_info in layers_to_test_MLP:\n",
    "    print(\"Testing layer info : \", layer_info)\n",
    "    model = MLPClassifier(hidden_layer_sizes=layer_info, activation='relu', solver='sgd', max_iter=1000, learning_rate='invscaling', random_state=1)\n",
    "    t = time.time()\n",
    "    model.fit(trainX, trainY.argmax(axis = 1))\n",
    "    print(f'Time taken to train MLP with {layer_info} hidden layers : {time.time() - t} seconds')\n",
    "    report_test = get_metric(testY.argmax(axis = 1), model.predict(testX))\n",
    "    report_test = pd.DataFrame(report_test).transpose()\n",
    "    result_test = \"results/part_f/model_H_\" + \"_\".join([str(i) for i in layer_info]) + \"_BATCH_EPOCH_1000_32_activation_relu\"\n",
    "    report_test.to_csv(result_test + \".csv\")\n",
    "    dfi.export(report_test,result_test + \".png\")\n",
    "\n",
    "    report_train = get_metric(trainY.argmax(axis = 1), model.predict(trainX))\n",
    "    report_train = pd.DataFrame(report_train).transpose()\n",
    "    result_train = \"results/part_f/train_model_H_\" + \"_\".join([str(i) for i in layer_info]) + \"_BATCH_EPOCH_1000_32_activation_relu\"\n",
    "    report_train.to_csv(result_train + \".csv\")\n",
    "    dfi.export(report_train,result_train + \".png\")"
   ]
  },
  {
   "cell_type": "markdown",
   "metadata": {},
   "source": [
    "# PART-D"
   ]
  },
  {
   "cell_type": "code",
   "execution_count": null,
   "metadata": {},
   "outputs": [],
   "source": [
    "for layer_info in layers_to_test:\n",
    "    print(\"Training architecture : \", layer_info)\n",
    "    network1 = NN(layer_info, activation_func='sigmoid')\n",
    "    network1.fit(trainX, trainY, lambda x : 0.01/np.sqrt(x), 1000, batch_size=32, print_every= 200, stop_thresh=1e-6)\n",
    "    network1DICT = {\"W\": network1.W, \"b\" : network1.b, \"epoch_losses\" : network1.epoch_losses, \"hidden_layers\" : network1.layers_config , \"activation\" : network1.activation_function, \"leakyReluSlope\" : network1.leakyRelu_slope}\n",
    "    model_name = \"models/partd_d/model_H_\" + \"_\".join([str(i) for i in layer_info]) + \"_EPOCH_\" + str(1000)+\"_BATCH_32_activation_sigmoid.pickle\"\n",
    "    with open(model_name,'wb') as f:\n",
    "        pickle.dump(network1DICT,f)\n",
    "    report = get_metric(testY.argmax(axis = 1), network1.predict(testX.T))\n",
    "    report = pd.DataFrame(report).transpose()\n",
    "    result = \"results/part_d/model_H_\" + \"_\".join([str(i) for i in layer_info]) + \"_EPOCH_\" + str(1000)+\"_BATCH_32_activation_sigmoid\"\n",
    "    report.to_csv(result + '.csv')\n",
    "    dfi.export(report,result + '.png')\n",
    "    \n",
    "    report_train = get_metric(trainY.argmax(axis = 1), network1.predict(trainX.T))\n",
    "    report_train = pd.DataFrame(report_train).transpose()\n",
    "    result_train = \"results/part_d/train_model_H_\" + \"_\".join([str(i) for i in layer_info]) + \"_EPOCH_\" + str(1000)+\"_BATCH_32_activation_sigmoid\"\n",
    "    report_train.to_csv(result_train + \".csv\")\n",
    "    dfi.export(report_train,result_train + \".png\")"
   ]
  }
 ],
 "metadata": {
  "kernelspec": {
   "display_name": "Python 3.10.0 64-bit",
   "language": "python",
   "name": "python3"
  },
  "language_info": {
   "codemirror_mode": {
    "name": "ipython",
    "version": 3
   },
   "file_extension": ".py",
   "mimetype": "text/x-python",
   "name": "python",
   "nbconvert_exporter": "python",
   "pygments_lexer": "ipython3",
   "version": "3.10.0"
  },
  "orig_nbformat": 4,
  "vscode": {
   "interpreter": {
    "hash": "aee8b7b246df8f9039afb4144a1f6fd8d2ca17a180786b69acc140d282b71a49"
   }
  }
 },
 "nbformat": 4,
 "nbformat_minor": 2
}
