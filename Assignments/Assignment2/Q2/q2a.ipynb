{
 "cells": [
  {
   "cell_type": "code",
   "execution_count": 2,
   "metadata": {},
   "outputs": [],
   "source": [
    "import cvxopt\n",
    "import numpy as np\n",
    "import os\n",
    "from PIL import Image\n",
    "import time\n",
    "from sklearn.svm import SVC as svm\n",
    "C = 1"
   ]
  },
  {
   "cell_type": "code",
   "execution_count": 3,
   "metadata": {},
   "outputs": [],
   "source": [
    "def resize(img) :\n",
    "    img = np.array(img.resize((16,16)))\n",
    "    return img.reshape(img.shape[0]*img.shape[1]*img.shape[2])/255\n",
    "\n",
    "def loadClass(path):\n",
    "    images = []\n",
    "    for i in os.listdir(path):\n",
    "        images.append(resize(Image.open(os.path.join(path,i))))\n",
    "    return np.array(images)\n",
    "\n",
    "def loadSVMData(c1,c2):\n",
    "    class0 = loadClass(c1)\n",
    "    label0 = (-1)*np.ones((class0.shape[0],1))\n",
    "    class1 = loadClass(c2)\n",
    "    label1 = np.ones((class1.shape[0],1))\n",
    "    return np.concatenate([class0,class1]) ,np.concatenate([label0,label1])"
   ]
  },
  {
   "cell_type": "code",
   "execution_count": 4,
   "metadata": {},
   "outputs": [
    {
     "ename": "FileNotFoundError",
     "evalue": "[Errno 2] No such file or directory: 'data/svm/train/0'",
     "output_type": "error",
     "traceback": [
      "\u001b[0;31m---------------------------------------------------------------------------\u001b[0m",
      "\u001b[0;31mFileNotFoundError\u001b[0m                         Traceback (most recent call last)",
      "\u001b[1;32m/Users/anamikaseth/Desktop/Academics/Sem2301/COL774/Assignments/Ass2/2021mt10236_vaibhav_seth/Q2/q2.ipynb Cell 3\u001b[0m in \u001b[0;36m<cell line: 5>\u001b[0;34m()\u001b[0m\n\u001b[1;32m      <a href='vscode-notebook-cell:/Users/anamikaseth/Desktop/Academics/Sem2301/COL774/Assignments/Ass2/2021mt10236_vaibhav_seth/Q2/q2.ipynb#ch0000002?line=0'>1</a>\u001b[0m \u001b[39m# loading data\u001b[39;00m\n\u001b[1;32m      <a href='vscode-notebook-cell:/Users/anamikaseth/Desktop/Academics/Sem2301/COL774/Assignments/Ass2/2021mt10236_vaibhav_seth/Q2/q2.ipynb#ch0000002?line=1'>2</a>\u001b[0m \u001b[39m# entry number : 2021MT10236. Required classes : 0 and 1\u001b[39;00m\n\u001b[1;32m      <a href='vscode-notebook-cell:/Users/anamikaseth/Desktop/Academics/Sem2301/COL774/Assignments/Ass2/2021mt10236_vaibhav_seth/Q2/q2.ipynb#ch0000002?line=2'>3</a>\u001b[0m \u001b[39m# assigning label -1 to class 0 and label 1 to class 1\u001b[39;00m\n\u001b[1;32m      <a href='vscode-notebook-cell:/Users/anamikaseth/Desktop/Academics/Sem2301/COL774/Assignments/Ass2/2021mt10236_vaibhav_seth/Q2/q2.ipynb#ch0000002?line=3'>4</a>\u001b[0m c1 \u001b[39m=\u001b[39m \u001b[39m0\u001b[39m; c2 \u001b[39m=\u001b[39m \u001b[39m1\u001b[39m\n\u001b[0;32m----> <a href='vscode-notebook-cell:/Users/anamikaseth/Desktop/Academics/Sem2301/COL774/Assignments/Ass2/2021mt10236_vaibhav_seth/Q2/q2.ipynb#ch0000002?line=4'>5</a>\u001b[0m trainX, trainY \u001b[39m=\u001b[39m loadSVMData(\u001b[39m'\u001b[39;49m\u001b[39mdata/svm/train/\u001b[39;49m\u001b[39m'\u001b[39;49m\u001b[39m+\u001b[39;49m\u001b[39mstr\u001b[39;49m(c1),\u001b[39m'\u001b[39;49m\u001b[39mdata/svm/train/\u001b[39;49m\u001b[39m'\u001b[39;49m\u001b[39m+\u001b[39;49m\u001b[39mstr\u001b[39;49m(c2))\n\u001b[1;32m      <a href='vscode-notebook-cell:/Users/anamikaseth/Desktop/Academics/Sem2301/COL774/Assignments/Ass2/2021mt10236_vaibhav_seth/Q2/q2.ipynb#ch0000002?line=5'>6</a>\u001b[0m testX, testY \u001b[39m=\u001b[39m loadSVMData(\u001b[39m'\u001b[39m\u001b[39mdata/svm/val/\u001b[39m\u001b[39m'\u001b[39m\u001b[39m+\u001b[39m\u001b[39mstr\u001b[39m(c1),\u001b[39m'\u001b[39m\u001b[39mdata/svm/val/\u001b[39m\u001b[39m'\u001b[39m\u001b[39m+\u001b[39m\u001b[39mstr\u001b[39m(c2))\n",
      "\u001b[1;32m/Users/anamikaseth/Desktop/Academics/Sem2301/COL774/Assignments/Ass2/2021mt10236_vaibhav_seth/Q2/q2.ipynb Cell 3\u001b[0m in \u001b[0;36mloadSVMData\u001b[0;34m(c1, c2)\u001b[0m\n\u001b[1;32m     <a href='vscode-notebook-cell:/Users/anamikaseth/Desktop/Academics/Sem2301/COL774/Assignments/Ass2/2021mt10236_vaibhav_seth/Q2/q2.ipynb#ch0000002?line=10'>11</a>\u001b[0m \u001b[39mdef\u001b[39;00m \u001b[39mloadSVMData\u001b[39m(c1,c2):\n\u001b[0;32m---> <a href='vscode-notebook-cell:/Users/anamikaseth/Desktop/Academics/Sem2301/COL774/Assignments/Ass2/2021mt10236_vaibhav_seth/Q2/q2.ipynb#ch0000002?line=11'>12</a>\u001b[0m     class0 \u001b[39m=\u001b[39m loadClass(c1)\n\u001b[1;32m     <a href='vscode-notebook-cell:/Users/anamikaseth/Desktop/Academics/Sem2301/COL774/Assignments/Ass2/2021mt10236_vaibhav_seth/Q2/q2.ipynb#ch0000002?line=12'>13</a>\u001b[0m     label0 \u001b[39m=\u001b[39m (\u001b[39m-\u001b[39m\u001b[39m1\u001b[39m)\u001b[39m*\u001b[39mnp\u001b[39m.\u001b[39mones((class0\u001b[39m.\u001b[39mshape[\u001b[39m0\u001b[39m],\u001b[39m1\u001b[39m))\n\u001b[1;32m     <a href='vscode-notebook-cell:/Users/anamikaseth/Desktop/Academics/Sem2301/COL774/Assignments/Ass2/2021mt10236_vaibhav_seth/Q2/q2.ipynb#ch0000002?line=13'>14</a>\u001b[0m     class1 \u001b[39m=\u001b[39m loadClass(c2)\n",
      "\u001b[1;32m/Users/anamikaseth/Desktop/Academics/Sem2301/COL774/Assignments/Ass2/2021mt10236_vaibhav_seth/Q2/q2.ipynb Cell 3\u001b[0m in \u001b[0;36mloadClass\u001b[0;34m(path)\u001b[0m\n\u001b[1;32m      <a href='vscode-notebook-cell:/Users/anamikaseth/Desktop/Academics/Sem2301/COL774/Assignments/Ass2/2021mt10236_vaibhav_seth/Q2/q2.ipynb#ch0000002?line=4'>5</a>\u001b[0m \u001b[39mdef\u001b[39;00m \u001b[39mloadClass\u001b[39m(path):\n\u001b[1;32m      <a href='vscode-notebook-cell:/Users/anamikaseth/Desktop/Academics/Sem2301/COL774/Assignments/Ass2/2021mt10236_vaibhav_seth/Q2/q2.ipynb#ch0000002?line=5'>6</a>\u001b[0m     images \u001b[39m=\u001b[39m []\n\u001b[0;32m----> <a href='vscode-notebook-cell:/Users/anamikaseth/Desktop/Academics/Sem2301/COL774/Assignments/Ass2/2021mt10236_vaibhav_seth/Q2/q2.ipynb#ch0000002?line=6'>7</a>\u001b[0m     \u001b[39mfor\u001b[39;00m i \u001b[39min\u001b[39;00m os\u001b[39m.\u001b[39;49mlistdir(path):\n\u001b[1;32m      <a href='vscode-notebook-cell:/Users/anamikaseth/Desktop/Academics/Sem2301/COL774/Assignments/Ass2/2021mt10236_vaibhav_seth/Q2/q2.ipynb#ch0000002?line=7'>8</a>\u001b[0m         images\u001b[39m.\u001b[39mappend(resize(Image\u001b[39m.\u001b[39mopen(os\u001b[39m.\u001b[39mpath\u001b[39m.\u001b[39mjoin(path,i))))\n\u001b[1;32m      <a href='vscode-notebook-cell:/Users/anamikaseth/Desktop/Academics/Sem2301/COL774/Assignments/Ass2/2021mt10236_vaibhav_seth/Q2/q2.ipynb#ch0000002?line=8'>9</a>\u001b[0m     \u001b[39mreturn\u001b[39;00m np\u001b[39m.\u001b[39marray(images)\n",
      "\u001b[0;31mFileNotFoundError\u001b[0m: [Errno 2] No such file or directory: 'data/svm/train/0'"
     ]
    }
   ],
   "source": [
    "# loading data\n",
    "# entry number : 2021MT10236. Required classes : 0 and 1\n",
    "# assigning label -1 to class 0 and label 1 to class 1\n",
    "c1 = 0; c2 = 1\n",
    "trainX, trainY = loadSVMData('data/svm/train/'+str(c1),'data/svm/train/'+str(c2))\n",
    "testX, testY = loadSVMData('data/svm/val/'+str(c1),'data/svm/val/'+str(c2))"
   ]
  },
  {
   "cell_type": "code",
   "execution_count": 239,
   "metadata": {},
   "outputs": [],
   "source": [
    "def getSupport(arr,tol = 1e-3, C = 1):\n",
    "    supportAlpha = []; indices = []\n",
    "    for i in range(len(arr)):\n",
    "        if arr[i] > tol :\n",
    "            supportAlpha.append(arr[i])\n",
    "            indices.append(i)\n",
    "    return supportAlpha,indices\n",
    "\n",
    "def linearKernel(X1,X2):\n",
    "    return np.matmul(X1,X2.T)\n",
    "\n",
    "def gaussKernel(X1: np.ndarray, X2: np.ndarray, gamma: float = 0.001):\n",
    "    prod = np.reshape(np.einsum('ij,ij->i', X1, X1), (X1.shape[0], 1)) + \\\n",
    "           np.reshape(np.einsum('ij,ij->i', X2, X2), (X2.shape[0], 1)).T \\\n",
    "             - 2 * np.matmul(X1, X2.T)\n",
    "    return np.exp(-gamma * prod)\n",
    "\n",
    "def SVM(X, Y, kernel = 'gaussian' , gamma = 0.1, C = 1, tol = 1e-4,showProg = False):\n",
    "    if kernel == 'linear':\n",
    "        kernelMatrix = linearKernel(trainX,trainX)\n",
    "    elif kernel == 'gaussian': \n",
    "        kernelMatrix = gaussKernel(trainX,trainX,gamma = gamma)\n",
    "    print(\"kernel computed\")\n",
    "\n",
    "    P = cvxopt.matrix((kernelMatrix * np.matmul(Y,Y.T)))\n",
    "    q = cvxopt.matrix(-np.ones(X.shape[0]))\n",
    "    c = 0\n",
    "    G = cvxopt.matrix(np.concatenate([np.eye(X.shape[0]),(-1)*np.eye(X.shape[0])]))\n",
    "    h = cvxopt.matrix(np.concatenate([C*np.ones((X.shape[0],1)),np.zeros((X.shape[0],1))]))\n",
    "    A = cvxopt.matrix(Y.T ,tc = 'd')\n",
    "    b = cvxopt.matrix(0.0)\n",
    "\n",
    "    sol = cvxopt.solvers.qp(P, q, G, h, A, b, options={'show_progress': showProg})\n",
    "    alphaRaw = np.array(sol['x'])\n",
    "    supportAlpha, supportIndices = getSupport(alphaRaw,tol, C)\n",
    "    supportAlpha = np.array(supportAlpha)\n",
    "    ySupport = Y[supportIndices]; xSupport = X[supportIndices]\n",
    "\n",
    "    w = np.sum(supportAlpha * ySupport * xSupport , axis = 0)\n",
    "\n",
    "    wXt = np.sum(alphaRaw * Y * kernelMatrix,axis = 0)\n",
    "\n",
    "    M = max(supportIndices, key=lambda i: -float(\"inf\") if Y[i] == 1  or C - alphaRaw[i] <= tol else wXt[i])\n",
    "    m = min(supportIndices, key=lambda i: float(\"inf\") if Y[i] == -1  or C - alphaRaw[i] <= tol else wXt[i])\n",
    "    intercept = -(wXt[M] + wXt[m]) / 2\n",
    "    return w,intercept,alphaRaw, supportIndices\n",
    "\n"
   ]
  },
  {
   "cell_type": "markdown",
   "metadata": {},
   "source": [
    "# Part - A"
   ]
  },
  {
   "cell_type": "code",
   "execution_count": 240,
   "metadata": {},
   "outputs": [
    {
     "name": "stdout",
     "output_type": "stream",
     "text": [
      "kernel computed\n",
      "66.93194317817688\n"
     ]
    }
   ],
   "source": [
    "t = time.time()\n",
    "wLinear, bLinear ,alphaRawLinear ,supportLinear = SVM(trainX,trainY, kernel = 'linear',showProg = False, tol=1e-3, C = 1.0)\n",
    "print(time.time() -t)"
   ]
  },
  {
   "cell_type": "code",
   "execution_count": 246,
   "metadata": {},
   "outputs": [
    {
     "name": "stdout",
     "output_type": "stream",
     "text": [
      "Number of support vectors = 1379\n",
      "Number of support vectors make up  28.971% of the training set\n",
      "Intercept term : 2.4334437936343076\n",
      "Validation set accuracy =  86.250%\n"
     ]
    }
   ],
   "source": [
    "nSV = len(supportLinear)\n",
    "print(f'Number of support vectors = {nSV}')\n",
    "print(f'Number of support vectors make up {nSV*100/trainX.shape[0] : .3f}% of the training set')\n",
    "print(f'Intercept term : {bLinear}')\n",
    "wLinear = wLinear.reshape((wLinear.shape[0],1))\n",
    "pred = np.matmul(wLinear.T,testX.T) + bLinear\n",
    "pred = np.where(pred[0] >= 0, 1, -1)\n",
    "testYtemp = testY.reshape(testY.shape[0])\n",
    "accLinear = np.where((testYtemp == pred) == True)[0].shape[0]/testYtemp.shape[0]\n",
    "print(f'Validation set accuracy = {accLinear*100 : .3f}%')"
   ]
  },
  {
   "cell_type": "code",
   "execution_count": 247,
   "metadata": {},
   "outputs": [
    {
     "name": "stdout",
     "output_type": "stream",
     "text": [
      "Validation set accuracy =  91.176%\n"
     ]
    }
   ],
   "source": [
    "predTrain = np.matmul(wLinear.T,trainX.T) + bLinear\n",
    "predTrain = np.where(predTrain[0] >= 0, 1, -1)\n",
    "trainYtemp = trainY.reshape(trainY.shape[0])\n",
    "accLinearTrain = np.where((trainYtemp == predTrain) == True)[0].shape[0]/trainYtemp.shape[0]\n",
    "print(f'Validation set accuracy = {accLinearTrain*100 : .3f}%')"
   ]
  },
  {
   "cell_type": "code",
   "execution_count": 248,
   "metadata": {},
   "outputs": [],
   "source": [
    "vecs = [(255*trainX[i]).reshape(16,16,3).astype(np.uint8) for i in np.argsort(alphaRawLinear[supportLinear].flatten())[:6]]\n",
    "for i in range(6):\n",
    "    img = Image.fromarray(vecs[i])\n",
    "    img.save('images/Q2/supportVectorLinear'+str(i)+'.png')\n",
    "wtemp = 255*wLinear.reshape((16,16,3)).astype(np.uint8)\n",
    "img  = Image.fromarray(wtemp)\n",
    "img.save('images/Q2/wLinear.png')\n"
   ]
  },
  {
   "cell_type": "markdown",
   "metadata": {},
   "source": [
    "# Part - B"
   ]
  },
  {
   "cell_type": "code",
   "execution_count": 249,
   "metadata": {},
   "outputs": [
    {
     "name": "stdout",
     "output_type": "stream",
     "text": [
      "kernel computed\n",
      "65.10463786125183\n"
     ]
    }
   ],
   "source": [
    "#gaussian prediction\n",
    "t = time.time()\n",
    "_ , bGaussian ,alphaRawGaussian ,supportGaussian = SVM(trainX,trainY, kernel = 'gaussian',gamma = 0.001,showProg = False, tol=1e-4, C = 1.0)\n",
    "print(time.time()-t)"
   ]
  },
  {
   "cell_type": "code",
   "execution_count": 250,
   "metadata": {},
   "outputs": [
    {
     "name": "stdout",
     "output_type": "stream",
     "text": [
      "Number of support vectors = 1919\n",
      "Number of support vectors make up  40.315% of the training set\n",
      "Intercept term : -8.15582215973239\n",
      "Validation set accuracy =  84.500%\n"
     ]
    }
   ],
   "source": [
    "nSVg = len(supportGaussian)\n",
    "print(f'Number of support vectors = {nSVg}')\n",
    "print(f'Number of support vectors make up {nSVg*100/trainX.shape[0] : .3f}% of the training set')\n",
    "print(f'Intercept term : {bGaussian}')\n",
    "pred = np.sum(alphaRawGaussian[supportGaussian] * trainY[supportGaussian] * gaussKernel(trainX[supportGaussian], testX, 0.001), 0) + bGaussian\n",
    "pred = np.where(pred>=0, 1, -1)\n",
    "accGauss = np.where((testYtemp == pred) == True)[0].shape[0]/testYtemp.shape[0]\n",
    "print(f'Validation set accuracy = {accGauss*100 : .3f}%')\n"
   ]
  },
  {
   "cell_type": "code",
   "execution_count": 1,
   "metadata": {},
   "outputs": [
    {
     "ename": "NameError",
     "evalue": "name 'np' is not defined",
     "output_type": "error",
     "traceback": [
      "\u001b[0;31m---------------------------------------------------------------------------\u001b[0m",
      "\u001b[0;31mNameError\u001b[0m                                 Traceback (most recent call last)",
      "\u001b[1;32m/Users/anamikaseth/Desktop/Academics/Sem2301/COL774/Assignments/Ass2/2021mt10236_vaibhav_seth/Q2/q2.ipynb Cell 13\u001b[0m in \u001b[0;36m<cell line: 1>\u001b[0;34m()\u001b[0m\n\u001b[0;32m----> <a href='vscode-notebook-cell:/Users/anamikaseth/Desktop/Academics/Sem2301/COL774/Assignments/Ass2/2021mt10236_vaibhav_seth/Q2/q2.ipynb#ch0000023?line=0'>1</a>\u001b[0m matchingSupport \u001b[39m=\u001b[39m np\u001b[39m.\u001b[39mwhere((supportLinear \u001b[39m==\u001b[39m supportGaussian)\u001b[39m==\u001b[39m\u001b[39mTrue\u001b[39;00m)[\u001b[39m0\u001b[39m]\n\u001b[1;32m      <a href='vscode-notebook-cell:/Users/anamikaseth/Desktop/Academics/Sem2301/COL774/Assignments/Ass2/2021mt10236_vaibhav_seth/Q2/q2.ipynb#ch0000023?line=1'>2</a>\u001b[0m \u001b[39mprint\u001b[39m(\u001b[39mf\u001b[39m\u001b[39m\"\u001b[39m\u001b[39mNumber of matching support vectors = \u001b[39m\u001b[39m{\u001b[39;00mmatchingSupport\u001b[39m}\u001b[39;00m\u001b[39m\"\u001b[39m)\n",
      "\u001b[0;31mNameError\u001b[0m: name 'np' is not defined"
     ]
    }
   ],
   "source": [
    "matchingSupport = np.where((supportLinear == supportGaussian)==True)[0]\n",
    "print(f\"Number of matching support vectors = {matchingSupport}\")"
   ]
  },
  {
   "cell_type": "code",
   "execution_count": 262,
   "metadata": {},
   "outputs": [
    {
     "name": "stdout",
     "output_type": "stream",
     "text": [
      "Validation set accuracy =  50.000%\n"
     ]
    }
   ],
   "source": [
    "predTrainG = np.sum(alphaRawGaussian[supportGaussian] * trainY[supportGaussian] * gaussKernel(trainX[supportGaussian], trainX, 0.001), 0) + bGaussian\n",
    "predTrainG = np.where(predTrainG[0] >= 0, 1, -1)\n",
    "accGaussTrain = np.where((trainY.flatten() == predTrainG) == True)[0].shape[0]/trainYtempG.shape[0]\n",
    "print(f'Validation set accuracy = {accGaussTrain*100 : .3f}%')"
   ]
  },
  {
   "cell_type": "code",
   "execution_count": 253,
   "metadata": {},
   "outputs": [],
   "source": [
    "vecs = [(255*trainX[i]).reshape(16,16,3).astype(np.uint8) for i in np.argsort(alphaRawGaussian[supportLinear].flatten())[:6]]\n",
    "for i in range(6):\n",
    "    img = Image.fromarray(vecs[i])\n",
    "    img.save('images/Q2/supportVectorGauss'+str(i)+'.png')"
   ]
  },
  {
   "cell_type": "markdown",
   "metadata": {},
   "source": [
    "# Part C"
   ]
  },
  {
   "cell_type": "code",
   "execution_count": 5,
   "metadata": {},
   "outputs": [
    {
     "ename": "NameError",
     "evalue": "name 'trainX' is not defined",
     "output_type": "error",
     "traceback": [
      "\u001b[0;31m---------------------------------------------------------------------------\u001b[0m",
      "\u001b[0;31mNameError\u001b[0m                                 Traceback (most recent call last)",
      "\u001b[1;32m/Users/anamikaseth/Desktop/Academics/Sem2301/COL774/Assignments/Ass2/2021mt10236_vaibhav_seth/Q2/q2.ipynb Cell 17\u001b[0m in \u001b[0;36m<cell line: 4>\u001b[0;34m()\u001b[0m\n\u001b[1;32m      <a href='vscode-notebook-cell:/Users/anamikaseth/Desktop/Academics/Sem2301/COL774/Assignments/Ass2/2021mt10236_vaibhav_seth/Q2/q2.ipynb#ch0000015?line=1'>2</a>\u001b[0m linSVM \u001b[39m=\u001b[39m svm(kernel\u001b[39m=\u001b[39m\u001b[39m'\u001b[39m\u001b[39mlinear\u001b[39m\u001b[39m'\u001b[39m, C \u001b[39m=\u001b[39m C)\n\u001b[1;32m      <a href='vscode-notebook-cell:/Users/anamikaseth/Desktop/Academics/Sem2301/COL774/Assignments/Ass2/2021mt10236_vaibhav_seth/Q2/q2.ipynb#ch0000015?line=2'>3</a>\u001b[0m t \u001b[39m=\u001b[39m time\u001b[39m.\u001b[39mtime()\n\u001b[0;32m----> <a href='vscode-notebook-cell:/Users/anamikaseth/Desktop/Academics/Sem2301/COL774/Assignments/Ass2/2021mt10236_vaibhav_seth/Q2/q2.ipynb#ch0000015?line=3'>4</a>\u001b[0m linSVM\u001b[39m.\u001b[39mfit(trainX,trainY\u001b[39m.\u001b[39mflatten())\n\u001b[1;32m      <a href='vscode-notebook-cell:/Users/anamikaseth/Desktop/Academics/Sem2301/COL774/Assignments/Ass2/2021mt10236_vaibhav_seth/Q2/q2.ipynb#ch0000015?line=4'>5</a>\u001b[0m \u001b[39mprint\u001b[39m(\u001b[39mf\u001b[39m\u001b[39m'\u001b[39m\u001b[39mTime taken to train Sklearn Linear SVM = \u001b[39m\u001b[39m{\u001b[39;00mtime\u001b[39m.\u001b[39mtime()\u001b[39m \u001b[39m\u001b[39m-\u001b[39m\u001b[39m \u001b[39mt\u001b[39m \u001b[39m\u001b[39m:\u001b[39;00m\u001b[39m .3f\u001b[39m\u001b[39m}\u001b[39;00m\u001b[39ms\u001b[39m\u001b[39m'\u001b[39m)\n\u001b[1;32m      <a href='vscode-notebook-cell:/Users/anamikaseth/Desktop/Academics/Sem2301/COL774/Assignments/Ass2/2021mt10236_vaibhav_seth/Q2/q2.ipynb#ch0000015?line=7'>8</a>\u001b[0m gaussSVM \u001b[39m=\u001b[39m svm(kernel\u001b[39m=\u001b[39m\u001b[39m'\u001b[39m\u001b[39mrbf\u001b[39m\u001b[39m'\u001b[39m, C \u001b[39m=\u001b[39m C, gamma \u001b[39m=\u001b[39m \u001b[39m0.001\u001b[39m)\n",
      "\u001b[0;31mNameError\u001b[0m: name 'trainX' is not defined"
     ]
    }
   ],
   "source": [
    "import time\n",
    "linSVM = svm(kernel='linear', C = C)\n",
    "t = time.time()\n",
    "linSVM.fit(trainX,trainY.flatten())\n",
    "print(f'Time taken to train Sklearn Linear SVM = {time.time() - t : .3f}s')\n",
    "\n",
    "\n",
    "gaussSVM = svm(kernel='rbf', C = C, gamma = 0.001)\n",
    "t = time.time()\n",
    "gaussSVM.fit(trainX,trainY.flatten())\n",
    "print(f'Time taken to train Sklearn Gaussian SVM = {time.time() - t : .3f}s')\n"
   ]
  },
  {
   "cell_type": "code",
   "execution_count": 261,
   "metadata": {},
   "outputs": [
    {
     "name": "stdout",
     "output_type": "stream",
     "text": [
      "Using Sci-Kit Learn\n",
      "nSV for linear = 1379\n",
      "nSV for Gaussian = 1916\n",
      "bias for linear : 2.4337\n",
      "norm of difference between wLinear from cvxopt and sklearn :  0.0208\n",
      "Accuracy on validation set using sklearn Linear SVM = 0.85\n",
      "Accuracy on validation set using sklearn Gaussian SVM = 0.845\n"
     ]
    }
   ],
   "source": [
    "print(f'Using Sci-Kit Learn\\nnSV for linear = {linSVM.support_vectors_.shape[0]}\\nnSV for Gaussian = {gaussSVM.support_vectors_.shape[0]}')\n",
    "print(f'bias for linear :{linSVM.intercept_[0]: .4f}')\n",
    "print(f'norm of difference between wLinear from cvxopt and sklearn : {np.linalg.norm(wLinear.flatten() - linSVM.coef_) : .4f}')\n",
    "predLinearSK = linSVM.predict(testX)\n",
    "predLinearSK = np.where(predLinearSK>=0, 1, -1)\n",
    "accLinearSK = np.where((testY.flatten() == predLinearSK) == True)[0].shape[0]/testY.shape[0]\n",
    "print(f'Accuracy on validation set using sklearn Linear SVM = {accLinearSK}')\n",
    "predGaussSK = gaussSVM.predict(testX)\n",
    "predGaussSK = np.where(predGaussSK>=0, 1, -1)\n",
    "accGaussSK = np.where((testY.flatten() == predGaussSK) == True)[0].shape[0]/testY.shape[0]\n",
    "print(f'Accuracy on validation set using sklearn Gaussian SVM = {accGaussSK}')"
   ]
  },
  {
   "cell_type": "code",
   "execution_count": 263,
   "metadata": {},
   "outputs": [
    {
     "name": "stdout",
     "output_type": "stream",
     "text": [
      "Using Sci-Kit Learn\n",
      "nSV for linear = 1379\n",
      "nSV for Gaussian = 1916\n",
      "bias for linear : 2.4337\n",
      "norm of difference between wLinear from cvxopt and sklearn :  0.0208\n",
      "Accuracy on validation set using sklearn Linear SVM = 0.9088235294117647\n",
      "Accuracy on validation set using sklearn Gaussian SVM = 0.8861344537815126\n"
     ]
    }
   ],
   "source": [
    "print(f'Using Sci-Kit Learn\\nnSV for linear = {linSVM.support_vectors_.shape[0]}\\nnSV for Gaussian = {gaussSVM.support_vectors_.shape[0]}')\n",
    "print(f'bias for linear :{linSVM.intercept_[0]: .4f}')\n",
    "print(f'norm of difference between wLinear from cvxopt and sklearn : {np.linalg.norm(wLinear.flatten() - linSVM.coef_) : .4f}')\n",
    "predLinearSK = linSVM.predict(trainX)\n",
    "predLinearSK = np.where(predLinearSK>=0, 1, -1)\n",
    "accLinearSK = np.where((trainY.flatten() == predLinearSK) == True)[0].shape[0]/trainY.shape[0]\n",
    "print(f'Accuracy on validation set using sklearn Linear SVM = {accLinearSK}')\n",
    "predGaussSK = gaussSVM.predict(trainX)\n",
    "predGaussSK = np.where(predGaussSK>=0, 1, -1)\n",
    "accGaussSK = np.where((trainY.flatten() == predGaussSK) == True)[0].shape[0]/trainY.shape[0]\n",
    "print(f'Accuracy on validation set using sklearn Gaussian SVM = {accGaussSK}')"
   ]
  },
  {
   "cell_type": "code",
   "execution_count": 264,
   "metadata": {},
   "outputs": [
    {
     "data": {
      "text/plain": [
       "0.00025620636569234634"
      ]
     },
     "execution_count": 264,
     "metadata": {},
     "output_type": "execute_result"
    }
   ],
   "source": [
    "2.4337 - 2.4334437936343076"
   ]
  },
  {
   "cell_type": "markdown",
   "metadata": {},
   "source": [
    "# Part - D"
   ]
  },
  {
   "cell_type": "code",
   "execution_count": 218,
   "metadata": {},
   "outputs": [],
   "source": [
    "def resize(img) :\n",
    "    img = np.array(img.resize((32,32)))\n",
    "    return img.reshape(img.shape[0]*img.shape[1]*img.shape[2])/255\n",
    "\n",
    "def loadClass(path):\n",
    "    images = []\n",
    "    for i in os.listdir(path):\n",
    "        images.append(resize(Image.open(os.path.join(path,i))))\n",
    "    return np.array(images)\n",
    "\n",
    "def loadSVMData(c1,c2):\n",
    "    class0 = loadClass(c1)\n",
    "    label0 = (-1)*np.ones((class0.shape[0],1))\n",
    "    class1 = loadClass(c2)\n",
    "    label1 = np.ones((class1.shape[0],1))\n",
    "    return np.concatenate([class0,class1]) ,np.concatenate([label0,label1])\n",
    "\n",
    "# loading data\n",
    "# entry number : 2021MT10236. Required classes : 0 and 1\n",
    "# assigning label -1 to class 0 and label 1 to class 1\n",
    "c1 = 0; c2 = 1\n",
    "trainX, trainY = loadSVMData('data/svm/train/'+str(c1),'data/svm/train/'+str(c2))\n",
    "testX, testY = loadSVMData('data/svm/val/'+str(c1),'data/svm/val/'+str(c2))"
   ]
  },
  {
   "cell_type": "code",
   "execution_count": 222,
   "metadata": {},
   "outputs": [
    {
     "name": "stdout",
     "output_type": "stream",
     "text": [
      "Time taken to train Sklearn Linear SVM =  24.757s\n",
      "Time taken to train Sklearn Gaussian SVM =  14.879s\n"
     ]
    }
   ],
   "source": [
    "import time\n",
    "linSVM = svm(kernel='linear', C = C)\n",
    "t = time.time()\n",
    "linSVM.fit(trainX,trainY.flatten())\n",
    "print(f'Time taken to train Sklearn Linear SVM = {time.time() - t : .3f}s')\n",
    "\n",
    "\n",
    "gaussSVM = svm(kernel='rbf', C = C, gamma = 0.001)\n",
    "t = time.time()\n",
    "gaussSVM.fit(trainX,trainY.flatten())\n",
    "print(f'Time taken to train Sklearn Gaussian SVM = {time.time() - t : .3f}s')"
   ]
  },
  {
   "cell_type": "code",
   "execution_count": 232,
   "metadata": {},
   "outputs": [
    {
     "name": "stdout",
     "output_type": "stream",
     "text": [
      "Using Sci-Kit Learn\n",
      "nSV for linear = 1403\n",
      "nSV for Gaussian = 1591\n",
      "bias for linear : 2.6825\n",
      "Accuracy on validation set using sklearn Linear SVM = 0.79\n",
      "Accuracy on validation set using sklearn Gaussian SVM = 0.89\n"
     ]
    }
   ],
   "source": [
    "print(f'Using Sci-Kit Learn\\nnSV for linear = {linSVM.support_vectors_.shape[0]}\\nnSV for Gaussian = {gaussSVM.support_vectors_.shape[0]}')\n",
    "print(f'bias for linear :{linSVM.intercept_[0]: .4f}')\n",
    "predLinearSK = linSVM.predict(testX)\n",
    "accLinearSK = np.where((testY.flatten() == predLinearSK) == True)[0].shape[0]/testX.shape[0]\n",
    "print(f'Accuracy on validation set using sklearn Linear SVM = {accLinearSK}')\n",
    "predGaussSK = gaussSVM.predict(testX)\n",
    "accGaussSK = np.where((testY.flatten() == predGaussSK) == True)[0].shape[0]/testX.shape[0]\n",
    "print(f'Accuracy on validation set using sklearn Gaussian SVM = {accGaussSK}')"
   ]
  }
 ],
 "metadata": {
  "kernelspec": {
   "display_name": "Python 3.10.0 64-bit",
   "language": "python",
   "name": "python3"
  },
  "language_info": {
   "codemirror_mode": {
    "name": "ipython",
    "version": 3
   },
   "file_extension": ".py",
   "mimetype": "text/x-python",
   "name": "python",
   "nbconvert_exporter": "python",
   "pygments_lexer": "ipython3",
   "version": "3.10.0"
  },
  "orig_nbformat": 4,
  "vscode": {
   "interpreter": {
    "hash": "aee8b7b246df8f9039afb4144a1f6fd8d2ca17a180786b69acc140d282b71a49"
   }
  }
 },
 "nbformat": 4,
 "nbformat_minor": 2
}
